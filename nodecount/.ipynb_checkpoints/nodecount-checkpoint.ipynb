{
 "cells": [
  {
   "cell_type": "markdown",
   "id": "6e988c49-43c2-4667-9946-bc2488ec619e",
   "metadata": {},
   "source": [
    "### 최근 블록체인의 노드 수를 count 해보기"
   ]
  },
  {
   "cell_type": "markdown",
   "id": "5051f319-fa0a-4281-8705-be64c8c4830d",
   "metadata": {},
   "source": [
    "- 파이썬으로 배우는 블록체인 구조와 이론의 code 를 참고하였습니다."
   ]
  },
  {
   "cell_type": "code",
   "execution_count": 30,
   "id": "57c20c37-34fc-4388-8842-fb3af4616dec",
   "metadata": {
    "execution": {
     "iopub.execute_input": "2022-12-09T21:17:33.384500Z",
     "iopub.status.busy": "2022-12-09T21:17:33.379523Z",
     "iopub.status.idle": "2022-12-09T21:17:33.440212Z",
     "shell.execute_reply": "2022-12-09T21:17:33.438117Z",
     "shell.execute_reply.started": "2022-12-09T21:17:33.384500Z"
    },
    "tags": []
   },
   "outputs": [],
   "source": [
    "import requests\n",
    "import time\n",
    "import matplotlib.pyplot as plt"
   ]
  },
  {
   "cell_type": "code",
   "execution_count": 31,
   "id": "f357d86f-6d4d-4e53-b843-a2152ed9ec4c",
   "metadata": {
    "execution": {
     "iopub.execute_input": "2022-12-09T21:17:33.452010Z",
     "iopub.status.busy": "2022-12-09T21:17:33.451396Z",
     "iopub.status.idle": "2022-12-09T21:17:33.475028Z",
     "shell.execute_reply": "2022-12-09T21:17:33.469166Z",
     "shell.execute_reply.started": "2022-12-09T21:17:33.452010Z"
    },
    "tags": []
   },
   "outputs": [],
   "source": [
    "import plotly.express as px\n",
    "import pandas as pd"
   ]
  },
  {
   "cell_type": "markdown",
   "id": "797b128b-1512-4ddc-8495-bfc0a7946983",
   "metadata": {},
   "source": [
    "https://bitnodes.io 는 최근 60일까지 데이터를 제공함 "
   ]
  },
  {
   "cell_type": "code",
   "execution_count": 32,
   "id": "dad0443a-a2bc-431d-a913-407a8ee030ba",
   "metadata": {
    "execution": {
     "iopub.execute_input": "2022-12-09T21:17:33.484289Z",
     "iopub.status.busy": "2022-12-09T21:17:33.480676Z",
     "iopub.status.idle": "2022-12-09T21:17:33.517221Z",
     "shell.execute_reply": "2022-12-09T21:17:33.514035Z",
     "shell.execute_reply.started": "2022-12-09T21:17:33.484289Z"
    },
    "tags": []
   },
   "outputs": [],
   "source": [
    "times = []\n",
    "nodes = []\n",
    "\n",
    "\n",
    "nPage = 100"
   ]
  },
  {
   "cell_type": "code",
   "execution_count": null,
   "id": "2dff3d97-10bd-4b5d-ba17-593f4b2de337",
   "metadata": {
    "execution": {
     "iopub.execute_input": "2022-12-09T21:17:33.523203Z",
     "iopub.status.busy": "2022-12-09T21:17:33.520894Z"
    },
    "tags": []
   },
   "outputs": [
    {
     "name": "stdout",
     "output_type": "stream",
     "text": [
      "page 1 Loaded.\n",
      "page 2 Loaded.\n",
      "page 3 Loaded.\n",
      "page 4 Loaded.\n",
      "page 5 Loaded.\n",
      "page 6 Loaded.\n",
      "page 7 Loaded.\n",
      "page 8 Loaded.\n",
      "page 9 Loaded.\n",
      "page 10 Loaded.\n",
      "page 11 Loaded.\n",
      "page 12 Loaded.\n",
      "page 13 Loaded.\n",
      "page 14 Loaded.\n",
      "page 15 Loaded.\n",
      "page 16 Loaded.\n",
      "page 17 Loaded.\n",
      "page 18 Loaded.\n",
      "page 19 Loaded.\n",
      "page 20 Loaded.\n",
      "page 21 Loaded.\n",
      "page 22 Loaded.\n",
      "page 23 Loaded.\n",
      "page 24 Loaded.\n",
      "page 25 Loaded.\n",
      "page 26 Loaded.\n",
      "page 27 Loaded.\n",
      "page 28 Loaded.\n",
      "page 29 Loaded.\n",
      "page 30 Loaded.\n",
      "page 31 Loaded.\n",
      "page 32 Loaded.\n",
      "page 33 Loaded.\n",
      "page 34 Loaded.\n",
      "page 35 Loaded.\n",
      "page 36 Loaded.\n",
      "page 37 Loaded.\n",
      "page 38 Loaded.\n",
      "page 39 Loaded.\n",
      "page 40 Loaded.\n",
      "page 41 Loaded.\n",
      "page 42 Loaded.\n",
      "page 43 Loaded.\n",
      "page 44 Loaded.\n",
      "page 45 Loaded.\n",
      "page 46 Loaded.\n",
      "page 47 Loaded.\n",
      "page 48 Loaded.\n",
      "page 49 Loaded.\n",
      "page 50 Loaded.\n",
      "page 51 Loaded.\n",
      "page 52 Loaded.\n",
      "page 53 Loaded.\n",
      "page 54 Loaded.\n",
      "page 55 Loaded.\n",
      "page 56 Loaded.\n",
      "page 57 Loaded.\n",
      "page 58 Loaded.\n",
      "page 59 Loaded.\n",
      "page 60 Loaded.\n",
      "page 61 Loaded.\n",
      "page 62 Loaded.\n",
      "page 63 Loaded.\n",
      "page 64 Loaded.\n",
      "page 65 Loaded.\n",
      "page 66 Loaded.\n",
      "page 67 Loaded.\n",
      "page 68 Loaded.\n",
      "page 69 Loaded.\n",
      "page 70 Loaded.\n",
      "page 71 Loaded.\n",
      "page 72 Loaded.\n",
      "page 73 Loaded.\n",
      "page 74 Loaded.\n",
      "page 75 Loaded.\n",
      "page 76 Loaded.\n",
      "page 77 Loaded.\n",
      "page 78 Loaded.\n",
      "page 79 Loaded.\n",
      "page 80 Loaded.\n",
      "page 81 Loaded.\n",
      "page 82 Loaded.\n",
      "page 83 Loaded.\n"
     ]
    }
   ],
   "source": [
    "for page in range(1, nPage):\n",
    "    \n",
    "    url = 'https://bitnodes.io/api/v1/snapshots/?limit=100&page=' + str(page)\n",
    "    resp = requests.get(url=url)\n",
    "    data = resp.json()\n",
    "    print(\"page %d Loaded.\" %page)\n",
    "\n",
    "\n",
    "\n",
    "    for i in range(len(data['results'])):\n",
    "        ts = time.gmtime(data['results'][i]['timestamp'])\n",
    "        times.append(time.strftime(\"%Y-%m-%d %H:%M:%S\", ts))\n",
    "        nodes.append(data['results'][i]['total_nodes'])\n",
    "   "
   ]
  },
  {
   "cell_type": "code",
   "execution_count": null,
   "id": "26e56551-535b-4b6d-a866-f514b5d7b411",
   "metadata": {
    "tags": []
   },
   "outputs": [],
   "source": [
    "#최근 노드가 위에 있으므로 리스트를 역순으로 한다.\n",
    "times = times[::-1]\n",
    "nodes = nodes[::-1]"
   ]
  },
  {
   "cell_type": "code",
   "execution_count": null,
   "id": "c3cc4d90-4a0c-454f-a067-3ecad0575e87",
   "metadata": {
    "tags": []
   },
   "outputs": [],
   "source": [
    "df = pd.DataFrame({'times':times , 'node_count': nodes})"
   ]
  },
  {
   "cell_type": "code",
   "execution_count": null,
   "id": "88fdf51d-39b6-4ead-a623-96936e6a4514",
   "metadata": {
    "tags": []
   },
   "outputs": [],
   "source": [
    "df.head()"
   ]
  },
  {
   "cell_type": "code",
   "execution_count": null,
   "id": "a0df4726-35b1-4953-bf39-427861a7f7e5",
   "metadata": {
    "tags": []
   },
   "outputs": [],
   "source": [
    "fig = px.line(df, 'times', 'node_count',\n",
    "        title = 'Bitcoin Nodes\\n' + times[0] + '~' + times[-1])\n",
    "fig.update_xaxes(rangeslider_visible=True)"
   ]
  },
  {
   "cell_type": "markdown",
   "id": "f66469ce-edcb-4537-844c-e2224abe15a0",
   "metadata": {},
   "source": [
    "=> 대략 평균 15000개 정도로 활동하고 있는 것을 알 수 있다.  "
   ]
  },
  {
   "cell_type": "code",
   "execution_count": null,
   "id": "9d0c3191-e2c8-4573-963f-a644fd8b794a",
   "metadata": {},
   "outputs": [],
   "source": []
  },
  {
   "cell_type": "code",
   "execution_count": null,
   "id": "ab7095b1-28b1-4fdd-8a38-0d3b9b86ccc5",
   "metadata": {},
   "outputs": [],
   "source": []
  }
 ],
 "metadata": {
  "kernelspec": {
   "display_name": "Python 3 (ipykernel)",
   "language": "python",
   "name": "python3"
  },
  "language_info": {
   "codemirror_mode": {
    "name": "ipython",
    "version": 3
   },
   "file_extension": ".py",
   "mimetype": "text/x-python",
   "name": "python",
   "nbconvert_exporter": "python",
   "pygments_lexer": "ipython3",
   "version": "3.9.13"
  }
 },
 "nbformat": 4,
 "nbformat_minor": 5
}
